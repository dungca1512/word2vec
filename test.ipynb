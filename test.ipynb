{
 "cells": [
  {
   "cell_type": "code",
   "execution_count": 6,
   "metadata": {},
   "outputs": [],
   "source": [
    "import math\n",
    "\n",
    "def load_vectors(fname):\n",
    "    vocab = []\n",
    "    with open(fname, 'r', encoding='utf-8') as f:\n",
    "        for line in f:\n",
    "            data = line.split(' ')\n",
    "            data[-1] = data[-1].strip('\\n')\n",
    "            vocab.append({\"token\": data[0],\n",
    "                          \"vector\": data[1:]})\n",
    "    return vocab"
   ]
  },
  {
   "cell_type": "code",
   "execution_count": 7,
   "metadata": {},
   "outputs": [],
   "source": [
    "data = load_vectors(\"/home/dungca/Desktop/python/glove.6B.50d.txt\")"
   ]
  },
  {
   "cell_type": "code",
   "execution_count": 8,
   "metadata": {},
   "outputs": [],
   "source": [
    "def euclidean_distance(vector1, vector2):\n",
    "    squared_diffs = [(float(x) - float(y))**2 for x, y in zip(vector1, vector2)]\n",
    "    return math.sqrt(sum(squared_diffs))"
   ]
  },
  {
   "cell_type": "code",
   "execution_count": 10,
   "metadata": {},
   "outputs": [],
   "source": [
    "token1 = input(\"Token 1:\")\n",
    "token2 = input(\"Token 2:\")"
   ]
  },
  {
   "cell_type": "code",
   "execution_count": 11,
   "metadata": {},
   "outputs": [],
   "source": [
    "def get_vector(token):\n",
    "    for item in data:\n",
    "        if item[\"token\"] == token:\n",
    "            return item[\"vector\"]"
   ]
  },
  {
   "cell_type": "code",
   "execution_count": 12,
   "metadata": {},
   "outputs": [],
   "source": [
    "vector1 = get_vector(token1)\n",
    "vector2 = get_vector(token2)"
   ]
  },
  {
   "cell_type": "code",
   "execution_count": 13,
   "metadata": {},
   "outputs": [
    {
     "name": "stdout",
     "output_type": "stream",
     "text": [
      "Khoảng cách Euclid giữa king và queen: 3.477756228974235\n"
     ]
    }
   ],
   "source": [
    "distance = euclidean_distance(vector1, vector2)\n",
    "print(f\"Khoảng cách Euclid giữa {token1} và {token2}: {distance}\")"
   ]
  }
 ],
 "metadata": {
  "kernelspec": {
   "display_name": "dungca",
   "language": "python",
   "name": "python3"
  },
  "language_info": {
   "codemirror_mode": {
    "name": "ipython",
    "version": 3
   },
   "file_extension": ".py",
   "mimetype": "text/x-python",
   "name": "python",
   "nbconvert_exporter": "python",
   "pygments_lexer": "ipython3",
   "version": "3.9.19"
  }
 },
 "nbformat": 4,
 "nbformat_minor": 2
}
